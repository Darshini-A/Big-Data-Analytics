{
  "nbformat": 4,
  "nbformat_minor": 0,
  "metadata": {
    "colab": {
      "provenance": [],
      "authorship_tag": "ABX9TyMD3kX8o+KzKgLpicGveNnL",
      "include_colab_link": true
    },
    "kernelspec": {
      "name": "python3",
      "display_name": "Python 3"
    },
    "language_info": {
      "name": "python"
    }
  },
  "cells": [
    {
      "cell_type": "markdown",
      "metadata": {
        "id": "view-in-github",
        "colab_type": "text"
      },
      "source": [
        "<a href=\"https://colab.research.google.com/github/Darshini-A/Big-Data-Analytics/blob/main/Assignment_Problem%20.ipynb\" target=\"_parent\"><img src=\"https://colab.research.google.com/assets/colab-badge.svg\" alt=\"Open In Colab\"/></a>"
      ]
    },
    {
      "cell_type": "code",
      "execution_count": 1,
      "metadata": {
        "colab": {
          "base_uri": "https://localhost:8080/"
        },
        "id": "i5Vb8nssuksE",
        "outputId": "b9977cfd-baf1-4a25-a24f-666bb7714a22"
      },
      "outputs": [
        {
          "output_type": "stream",
          "name": "stdout",
          "text": [
            "Collecting pulp\n",
            "  Downloading PuLP-2.7.0-py3-none-any.whl (14.3 MB)\n",
            "\u001b[2K     \u001b[90m━━━━━━━━━━━━━━━━━━━━━━━━━━━━━━━━━━━━━━━━\u001b[0m \u001b[32m14.3/14.3 MB\u001b[0m \u001b[31m59.5 MB/s\u001b[0m eta \u001b[36m0:00:00\u001b[0m\n",
            "\u001b[?25hInstalling collected packages: pulp\n",
            "Successfully installed pulp-2.7.0\n"
          ]
        }
      ],
      "source": [
        "!pip install pulp\n",
        "import warnings\n",
        "\n",
        "warnings.filterwarnings(\"ignore\", category = DeprecationWarning)"
      ]
    },
    {
      "cell_type": "code",
      "source": [
        "from pulp import *"
      ],
      "metadata": {
        "id": "_on8ddvBuqqn"
      },
      "execution_count": 2,
      "outputs": []
    },
    {
      "cell_type": "code",
      "source": [
        "workers = [1,2,3,4]\n",
        "jobs = [1,2,3,4]"
      ],
      "metadata": {
        "id": "kA3GGK9zuqtq"
      },
      "execution_count": 3,
      "outputs": []
    },
    {
      "cell_type": "code",
      "source": [
        "costs = [[2,1,4,6],\n",
        "         [5,1,3,2],\n",
        "         [2,1,5,1],\n",
        "         [6,1,4,7]]"
      ],
      "metadata": {
        "id": "f-rnL0NduqwU"
      },
      "execution_count": 4,
      "outputs": []
    },
    {
      "cell_type": "code",
      "source": [
        "prob = LpProblem(\"Assignment Problem\", LpMinimize)"
      ],
      "metadata": {
        "colab": {
          "base_uri": "https://localhost:8080/"
        },
        "id": "s7rYoEMmuqzu",
        "outputId": "cfc1c236-060b-4b29-a46d-28f6c5c21900"
      },
      "execution_count": 5,
      "outputs": [
        {
          "output_type": "stream",
          "name": "stderr",
          "text": [
            "/usr/local/lib/python3.10/dist-packages/pulp/pulp.py:1352: UserWarning: Spaces are not permitted in the name. Converted to '_'\n",
            "  warnings.warn(\"Spaces are not permitted in the name. Converted to '_'\")\n"
          ]
        }
      ]
    },
    {
      "cell_type": "code",
      "source": [
        "costs = makeDict([workers, jobs], costs, 0)\n",
        "assign = [(w,j) for w in workers for j in jobs]\n",
        "vars = LpVariable.dicts(\"Assign\", (workers,jobs), 0, None, LpBinary)"
      ],
      "metadata": {
        "id": "ahErCJ03vjcf"
      },
      "execution_count": 6,
      "outputs": []
    },
    {
      "cell_type": "code",
      "source": [
        "prob += (\n",
        "    lpSum([vars[w][j] * costs[w][j] for (w,j) in assign]),\n",
        "    \"Sum_of_Assignment_Costs\",\n",
        ")"
      ],
      "metadata": {
        "id": "-Yzwzr9tvjfd"
      },
      "execution_count": 7,
      "outputs": []
    },
    {
      "cell_type": "code",
      "source": [
        "prob.solve()\n",
        "for v in prob.variables():\n",
        "  print(v.name, \"=\", v.varValue)\n",
        "print(\"\\nValue of Objective Function =\", value(prob.objective))"
      ],
      "metadata": {
        "colab": {
          "base_uri": "https://localhost:8080/"
        },
        "id": "fcJPxuLMwdl2",
        "outputId": "4f502b75-1bf9-43f0-aec2-bf9cfe10d238"
      },
      "execution_count": 12,
      "outputs": [
        {
          "output_type": "stream",
          "name": "stdout",
          "text": [
            "Assign_1_1 = 0.0\n",
            "Assign_1_2 = 0.0\n",
            "Assign_1_3 = 0.0\n",
            "Assign_1_4 = 0.0\n",
            "Assign_2_1 = 0.0\n",
            "Assign_2_2 = 0.0\n",
            "Assign_2_3 = 0.0\n",
            "Assign_2_4 = 0.0\n",
            "Assign_3_1 = 0.0\n",
            "Assign_3_2 = 0.0\n",
            "Assign_3_3 = 0.0\n",
            "Assign_3_4 = 0.0\n",
            "Assign_4_1 = 0.0\n",
            "Assign_4_2 = 0.0\n",
            "Assign_4_3 = 0.0\n",
            "Assign_4_4 = 0.0\n",
            "\n",
            "Value of Objective Function = 0.0\n"
          ]
        }
      ]
    }
  ]
}